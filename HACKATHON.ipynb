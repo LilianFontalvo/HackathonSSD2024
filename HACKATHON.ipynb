{
  "cells": [
    {
      "cell_type": "code",
      "execution_count": 2,
      "metadata": {
        "colab": {
          "base_uri": "https://localhost:8080/"
        },
        "id": "ppg0EIg582UG",
        "outputId": "7647c05f-60ff-4461-b218-7c28b6cd9525"
      },
      "outputs": [
        {
          "name": "stdout",
          "output_type": "stream",
          "text": [
            "Cloning into 'segment-anything'...\n",
            "remote: Enumerating objects: 295, done.\u001b[K\n",
            "remote: Total 295 (delta 0), reused 0 (delta 0), pack-reused 295\u001b[K\n",
            "Receiving objects: 100% (295/295), 18.30 MiB | 27.89 MiB/s, done.\n",
            "Resolving deltas: 100% (155/155), done.\n"
          ]
        }
      ],
      "source": [
        "!git clone \"https://github.com/facebookresearch/segment-anything.git\"\n",
        "!git clone \"https://github.com/LilianFontalvo/HackathonSSD2024.git\"\n",
        "!pip install -q supervision --upgrade supervision"
      ]
    },
    {
      "cell_type": "code",
      "execution_count": null,
      "metadata": {},
      "outputs": [],
      "source": [
        "import cv2\n",
        "import supervision as sv\n",
        "import torch\n",
        "import numpy as np\n",
        "import matplotlib.pyplot as plt\n",
        "import os\n",
        "from tqdm import tqdm"
      ]
    },
    {
      "cell_type": "code",
      "execution_count": 3,
      "metadata": {
        "colab": {
          "base_uri": "https://localhost:8080/"
        },
        "id": "vetTn_yv86t4",
        "outputId": "af9894a4-0e67-465a-b936-e59572b04595"
      },
      "outputs": [
        {
          "name": "stdout",
          "output_type": "stream",
          "text": [
            "/content/segment-anything\n"
          ]
        }
      ],
      "source": [
        "%cd segment-anything"
      ]
    },
    {
      "cell_type": "code",
      "execution_count": 4,
      "metadata": {
        "id": "50yDODFy9EaV"
      },
      "outputs": [],
      "source": [
        "!wget -q https://dl.fbaipublicfiles.com/segment_anything/sam_vit_h_4b8939.pth"
      ]
    },
    {
      "cell_type": "code",
      "execution_count": 5,
      "metadata": {
        "id": "1mHRsRU09Ga1"
      },
      "outputs": [],
      "source": [
        "from segment_anything import sam_model_registry, SamAutomaticMaskGenerator, SamPredictor\n",
        "\n",
        "DEVICE = torch.device('cuda:0' if torch.cuda.is_available() else 'cpu')\n",
        "MODEL_TYPE = \"vit_h\"\n",
        "\n",
        "\n",
        "CHECKPOINT_PATH = \"./sam_vit_h_4b8939.pth\"\n",
        "sam = sam_model_registry[MODEL_TYPE](checkpoint=CHECKPOINT_PATH).to(device=DEVICE)\n",
        "mask_generator = SamAutomaticMaskGenerator(sam)"
      ]
    },
    {
      "cell_type": "code",
      "execution_count": 90,
      "metadata": {
        "id": "qZ0OkeGVg9rG"
      },
      "outputs": [],
      "source": [
        "def get_fragments(image_path):\n",
        "    image_bgr = cv2.imread(image_path)\n",
        "    image_rgb = cv2.cvtColor(image_bgr, cv2.COLOR_BGR2RGB)\n",
        "    sam_result = mask_generator.generate(image_rgb)\n",
        "    masks = [o[\"segmentation\"] for o in sam_result]\n",
        "    all_mask = np.zeros(image_rgb.shape[:2])\n",
        "    for mask in masks:\n",
        "        all_mask = np.logical_or(all_mask, mask)\n",
        "    remaining = np.logical_not(all_mask)\n",
        "    fragments = [remaining.astype(int)]\n",
        "    fragments.extend([mask.astype(int) for mask in masks])\n",
        "    return fragments"
      ]
    },
    {
      "cell_type": "code",
      "execution_count": 91,
      "metadata": {
        "colab": {
          "base_uri": "https://localhost:8080/"
        },
        "id": "zMnAk82ckw4N",
        "outputId": "1b16879e-4626-402c-c265-78def1473f48"
      },
      "outputs": [
        {
          "name": "stderr",
          "output_type": "stream",
          "text": [
            "100%|██████████| 20/20 [02:31<00:00,  7.57s/it]\n"
          ]
        }
      ],
      "source": [
        "dir_path = \"../dataset/trainset/images/\"\n",
        "files = os.listdir(dir_path)\n",
        "all_fragments = {}\n",
        "\n",
        "for file in tqdm(files[:20]):\n",
        "    all_fragments[file] = get_fragments(dir_path + file)"
      ]
    },
    {
      "cell_type": "code",
      "execution_count": 97,
      "metadata": {
        "colab": {
          "base_uri": "https://localhost:8080/"
        },
        "id": "nSSOAiZTrvVd",
        "outputId": "dea1eea7-adda-42b2-9fd2-40308589fa6d"
      },
      "outputs": [
        {
          "name": "stdout",
          "output_type": "stream",
          "text": [
            "True\n"
          ]
        }
      ],
      "source": [
        "def get_label(frag, file):\n",
        "    mask_file = \"../dataset/trainset/masks/\"+file.replace(\"jpg\", \"png\")\n",
        "    image = cv2.imread(mask_file)\n",
        "    image = cv2.cvtColor(image, cv2.COLOR_BGR2GRAY)//255\n",
        "    test = image * frag\n",
        "    return np.sum(test) / np.sum(frag) > .7\n",
        "\n",
        "\n",
        "file = list(all_fragments.keys())[0]\n",
        "frag = all_fragments[file][2]\n",
        "print(get_label(frag, file))"
      ]
    },
    {
      "cell_type": "code",
      "execution_count": 98,
      "metadata": {
        "id": "YW7JDQipoe8N"
      },
      "outputs": [],
      "source": [
        "training_set = []\n",
        "for file in all_fragments:\n",
        "    fragments = all_fragments[file]\n",
        "    for frag in fragments:\n",
        "        training_set.append(\n",
        "            {\n",
        "                \"filename\": file,\n",
        "                \"mask\": frag.astype(int),\n",
        "                \"size\": np.sum(frag.astype(int)),\n",
        "                \"label\": get_label(frag, file),\n",
        "            }\n",
        "        )"
      ]
    }
  ],
  "metadata": {
    "accelerator": "GPU",
    "colab": {
      "gpuType": "T4",
      "provenance": []
    },
    "kernelspec": {
      "display_name": "Python 3",
      "name": "python3"
    },
    "language_info": {
      "name": "python"
    }
  },
  "nbformat": 4,
  "nbformat_minor": 0
}
